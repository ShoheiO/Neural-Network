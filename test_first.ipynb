#MNIST テストデータCSVの読み込み、リスト化
test_data_file = open("mnist_dataset/mnist_test_10.csv", 'r')
test_data_list = test_data_file.readlines()
test_data_file.close()

#テストデータセットの最初のデータを取得
all_values = test_data_list[0].split(',')
#ラベルを出力
print(all_values[0])

#可視化
image_array = numpy.asfarray(all_values[1:]).reshape((28,28))
matplotlib.pyplot.imshow(image_array, cmap='Greys', interpolation='None')

#判定
n.query((numpy.asfarray(all_values[1:]) / 255.0 * 0.99) + 0.01)
