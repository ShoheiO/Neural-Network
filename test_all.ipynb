#ニューラルネットワークのテスト

#判定のためのリスト定義
scorecard = []

#テストデータの全てのデータに対して実行
for record in test_data_list:
    #データを','で分割
    all_values = record.split(',')
    #正解は配列の１番目
    correct_label = int(all_values[0])
    print(correct_label, "correct label")
    #入力値のスケーリングとシフト
    inputs = (numpy.asfarray(all_values[1:]) / 255.0 * 0.99) + 0.01
    #ネットワークへの照会
    outputs = n.query(inputs)
    #最大値のインデックスがラベルに追加
    label = numpy.argmax(outputs)
    print(label, "network's answer")
    #正誤ラベルを追加
    if (label == correct_label):
        #正解なら１
        scorecard.append(1)
    else:
        #不正解なら0
        scorecard.append(0)
        pass
    pass
    
print(scorecard)
